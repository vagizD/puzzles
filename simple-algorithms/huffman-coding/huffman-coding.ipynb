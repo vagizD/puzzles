{
 "cells": [
  {
   "cell_type": "markdown",
   "id": "1a39036b",
   "metadata": {},
   "source": [
    "## Huffman coding\n",
    "\n",
    "Consider the following task.\n",
    "\n",
    "**Input**: string s\n",
    "\n",
    "**Ouput**: binary code of s symbols being the shortest representation of string s.\n",
    "\n",
    "*Example*: abacabad\n",
    "\n",
    "a: 00, b: 01, c: 10, d: 11. This code is simple to read and convert in either direction since it has unique values of identical length.\n",
    "\n",
    "abacabad = 0001001000010011 (16 bits)\n",
    "\n",
    "Also, we can notice that **a** occurs 4 times in our code. Let's assign it with shorter binary representation:\n",
    "\n",
    "a: 0, b: 10, c: 110, d: 111\n",
    "\n",
    "abacabad = 01001100100111 (14 bits).\n",
    "\n",
    "Both examples are **unprefixed** because none of the symbols start with the code of other symbol. We always certainly know what symbol we are reading."
   ]
  },
  {
   "cell_type": "markdown",
   "id": "1587da86",
   "metadata": {},
   "source": [
    "<img src='png/decoding-tree.png'>"
   ]
  },
  {
   "cell_type": "markdown",
   "id": "e3aa2ed1",
   "metadata": {},
   "source": [
    "All symbols are located in leafs of a tree.\n",
    "\n",
    "Knowing that approach we can reformulate our task:\n",
    "\n",
    "**Input**: frequences of symbols $f_1, ..., f_n$\n",
    "\n",
    "**Output**: binary tree (each vertex has either 0 or 2 childs), leafs of which are labeled with frequences $f_i$ and minimizing the expression\n",
    "$$\\large\\sum_{i=1}^{n}f_i \\times(\\text{depth of leaf }f_i)$$\n",
    "which is the length of a string.\n",
    "\n",
    "Every leaf is a frequence of the symbol it represents in a string. And depth of each leaf is the length of the binary code of that symbol. We can calculate the length of a binary representation with the equation above. **And** we can calculate it with a slightly different approach. If assigning frequences to leafs and also internal nodes, length of binary string will be equal to sum of all frequences of a tree."
   ]
  },
  {
   "cell_type": "markdown",
   "id": "7e270745",
   "metadata": {},
   "source": [
    "<img src='png/vertex-frequences.png'>"
   ]
  },
  {
   "cell_type": "markdown",
   "id": "c48a0e85",
   "metadata": {},
   "source": [
    "Frequency of internal node is simply a sum of child frequences.\n",
    "\n",
    "**Output**: minimized biinary tree in which leafs are symbol frequences and internal nodes are sums of their child frequences.\n",
    "\n",
    "Thus, optimal solution has smallest symbol frequences in two deepest leafs of a tree."
   ]
  },
  {
   "cell_type": "markdown",
   "id": "e1e7f812",
   "metadata": {},
   "source": [
    "<img src='png/tree-frequences.png'>"
   ]
  },
  {
   "cell_type": "markdown",
   "id": "6e62d569",
   "metadata": {},
   "source": [
    "To code the solution we can use `PriorityQueue` class from `queue` module with frequences being our priorities, but let's use only our code since we can implement it by hand and understand more about queues."
   ]
  },
  {
   "cell_type": "code",
   "execution_count": 1,
   "id": "f48877d4",
   "metadata": {},
   "outputs": [],
   "source": [
    "class SimplePriorityQueue:\n",
    "    def __init__(self):\n",
    "        self.array = []  # list of dicts {priority, symbol, code=\"\", bool'False}\n",
    "        \n",
    "    def __repr__(self):\n",
    "        return f\"{self.array}\"\n",
    "        \n",
    "    def insert(self, p: tuple):  # (priority, symbol)\n",
    "        self.array.append({\"priority\": p[0], \"symbol\": p[1], \"code\": \"\", \"bool\": False})\n",
    "    \n",
    "    def extract_min(self):\n",
    "        \"\"\"\n",
    "        Extracts lowest priority element and changes its bool value to True.\n",
    "        Works for O(n).\n",
    "        \"\"\"\n",
    "        assert len(self.array) != 0, \"Queue is empty.\"\n",
    "        e_min = {\"priority\": float('inf')}\n",
    "        index = 0\n",
    "        for i, e in enumerate(self.array):\n",
    "            if e[\"priority\"] < e_min[\"priority\"] and e[\"bool\"] == False:  # unused minimum\n",
    "                e_min = e\n",
    "                index = i\n",
    "        \n",
    "        self.array[index][\"bool\"] = True  # the value is used in first cycle\n",
    "        \n",
    "        return e_min\n",
    "\n",
    "    \n",
    "    def extract_max(self):\n",
    "        \"\"\"\n",
    "        Extracts highest priority \n",
    "        Works for O(n).\n",
    "        \"\"\"\n",
    "        assert len(self.array) != 0, \"Queue is empty.\"\n",
    "        e_max = {\"priority\": 0}\n",
    "        index = 0\n",
    "        for i, e in enumerate(self.array[:-1]):  # we do not need to use the root node\n",
    "            if e[\"priority\"] >= e_max[\"priority\"] and e[\"bool\"] == True:\n",
    "                e_max = e\n",
    "                index = i\n",
    "        \n",
    "        self.array[index][\"bool\"] = False  # the value is used in second cycle\n",
    "        \n",
    "        return e_max"
   ]
  },
  {
   "cell_type": "code",
   "execution_count": 2,
   "id": "154eec15",
   "metadata": {},
   "outputs": [],
   "source": [
    "def huffman(string: str):\n",
    "    \"\"\"\n",
    "    Builds optimal unprefixed encoding for a string.\n",
    "    \n",
    "    Input: string\n",
    "    Output: encoding dict\n",
    "    \"\"\"\n",
    "    letters_frequences = dict()\n",
    "    for e in string:  # O(n)\n",
    "        if letters_frequences.get(e) == None:\n",
    "            letters_frequences.update({e: 1})\n",
    "        else:\n",
    "            letters_frequences[e] += 1\n",
    "            \n",
    "    # check that we need to construct a tree (number of unique letters > 2)\n",
    "    if len(letters_frequences) == 1:\n",
    "        return {string[0]: '0'}\n",
    "    if len(letters_frequences) == 2:\n",
    "        l = dict()\n",
    "        for i, letter in enumerate(letters_frequences.keys()):\n",
    "            l.update({letter:f\"{i}\"})\n",
    "        return l\n",
    "    \n",
    "    # when number of unique symbols > 2\n",
    "    q = SimplePriorityQueue()  \n",
    "    for key in letters_frequences.keys():  # O(n)\n",
    "        q.insert((letters_frequences[key], key))  # all terminal nodes are inside queue\n",
    "    \n",
    "    letters = len(q.array)  # unique letters\n",
    "    \n",
    "    for _ in range(letters-1):  # O(n-1) operations since every operation from two nodes make 1 node \n",
    "        min1, min2 = q.extract_min(), q.extract_min()  # O(n) * O(n-1) -> O(n^2)\n",
    "        priority = min1[\"priority\"] + min2[\"priority\"]\n",
    "        symbol = min1[\"symbol\"] + min2[\"symbol\"]\n",
    "        q.insert((priority, symbol))  # all non-terminal nodes are inside queue\n",
    "\n",
    "        \n",
    "    # assign codes -> work time O(n^2)\n",
    "    for _ in range(letters-1):  # O(n-1)\n",
    "        max1, max2 = q.extract_max(), q.extract_max()  # operation does not consider the root node\n",
    "        for e in q.array:  # O(n)\n",
    "            if (max1[\"priority\"] + max2[\"priority\"] == e[\"priority\"] \n",
    "                and max1[\"symbol\"] in e[\"symbol\"] and max2[\"symbol\"] in e[\"symbol\"]):\n",
    "                    max1[\"code\"] = e[\"code\"] + '1'\n",
    "                    max2[\"code\"] = e[\"code\"] + '0'\n",
    "                    break\n",
    "                    \n",
    "    # return dict with found codes\n",
    "    letters_codes = dict()\n",
    "    for e in q.array[:letters]:\n",
    "        letters_codes.update({e[\"symbol\"]: e[\"code\"]})\n",
    "    \n",
    "    return letters_codes"
   ]
  },
  {
   "cell_type": "code",
   "execution_count": 3,
   "id": "e2a3b818",
   "metadata": {},
   "outputs": [
    {
     "name": "stdout",
     "output_type": "stream",
     "text": [
      "Hello, world!\n",
      "10 42\n",
      "'H': 1010\n",
      "'e': 1011\n",
      "'l': 01\n",
      "'o': 100\n",
      "',': 1100\n",
      "' ': 1101\n",
      "'w': 1110\n",
      "'r': 1111\n",
      "'d': 000\n",
      "'!': 001\n",
      "101010110101100110011011110100111101000001\n"
     ]
    }
   ],
   "source": [
    "def main():\n",
    "    string = input()\n",
    "    letters = huffman(string)\n",
    "    coded_string = ''\n",
    "    for e in string:\n",
    "        coded_string += letters[e]\n",
    "        \n",
    "    print(f\"{len(letters)} {len(coded_string)}\")\n",
    "    for letter, code in letters.items():\n",
    "        print(f\"'{letter}': {code}\")\n",
    "    \n",
    "    print(coded_string)\n",
    "    \n",
    "\n",
    "if __name__ == \"__main__\":\n",
    "    main()"
   ]
  }
 ],
 "metadata": {
  "kernelspec": {
   "display_name": "Python 3 (ipykernel)",
   "language": "python",
   "name": "python3"
  },
  "language_info": {
   "codemirror_mode": {
    "name": "ipython",
    "version": 3
   },
   "file_extension": ".py",
   "mimetype": "text/x-python",
   "name": "python",
   "nbconvert_exporter": "python",
   "pygments_lexer": "ipython3",
   "version": "3.9.10"
  }
 },
 "nbformat": 4,
 "nbformat_minor": 5
}
