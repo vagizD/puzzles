{
 "cells": [
  {
   "cell_type": "markdown",
   "id": "26667ffd",
   "metadata": {},
   "source": [
    "## Problem\n",
    "\n",
    "Code a greedy algorithm which takes in float $n$ (dollars) and working for $O(n)$ finds minimum number of coins (using 1, 5, 10, 25 cents) required to exchange it completely into coins. Provide the situation when greedy algorithm constructs non-efficient results.\n",
    "\n",
    "## Theoretical solution\n",
    "\n",
    "Important thing is that $25 \\ \\% \\ 5 = 0$ and $10 \\ \\% \\ 5 = 0$. It means that if there exists an optimal solution with sum of 2 and more 5 coins, all (or except one) could be replaced with 10 and 25, decreasing the amount of coins in solution. It leads to a conclusion that solution can contains either 1 or 0 5-nominal coins (since 2 5-nominal coins = 1 10-nominal coin).\n",
    "\n",
    "Also, we can represent 25 as (10 + 10 + 5), which means that not using 25 when it is available is not optimal.\n",
    "\n",
    "## Code solution\n",
    "\n",
    "Let's first write an initial approach:"
   ]
  },
  {
   "cell_type": "code",
   "execution_count": 1,
   "id": "033bb5bc",
   "metadata": {},
   "outputs": [],
   "source": [
    "def exchange(n: float)-> int: \n",
    "    \"\"\"\n",
    "    Input: n, dollars\n",
    "    \"\"\"\n",
    "    coins = 0\n",
    "    n *= 100\n",
    "    while n > 0:\n",
    "        coins += n//25\n",
    "        if n%25 == 0:\n",
    "            break\n",
    "        else:\n",
    "            n = n%25\n",
    "            coins += n//10\n",
    "            if n%10 == 0:\n",
    "                break\n",
    "            else:\n",
    "                n = n%10\n",
    "                coins += n//5\n",
    "                if n%5 == 0:\n",
    "                    break\n",
    "                else:\n",
    "                    coins += n%5\n",
    "                    break\n",
    "                    \n",
    "    return int(coins)"
   ]
  },
  {
   "cell_type": "code",
   "execution_count": 2,
   "id": "aa893ceb",
   "metadata": {},
   "outputs": [
    {
     "data": {
      "text/plain": [
       "10"
      ]
     },
     "execution_count": 2,
     "metadata": {},
     "output_type": "execute_result"
    }
   ],
   "source": [
    "exchange(1.67)  # 6*0.25, 1*0.1, 1*0.5, 2*0.01"
   ]
  },
  {
   "cell_type": "markdown",
   "id": "a8011f35",
   "metadata": {},
   "source": [
    "We can improve it to be more flexible using a storage to our nominal (values which we have to split the number according to):"
   ]
  },
  {
   "cell_type": "code",
   "execution_count": 16,
   "id": "e9a0bc24",
   "metadata": {},
   "outputs": [],
   "source": [
    "def exchange2(n: float, nominals=[1,5,10,25])-> int: \n",
    "    \"\"\"\n",
    "    Input:\n",
    "    * n, dollars\n",
    "    * s, values to use in split\n",
    "    \"\"\"\n",
    "    coins = 0\n",
    "    n *= 100\n",
    "    for e in reversed(nominals):\n",
    "        coins += n//e\n",
    "        if n%e == 0:\n",
    "            return int(coins)\n",
    "        n %= e\n",
    "                    \n",
    "    return int(coins)"
   ]
  },
  {
   "cell_type": "code",
   "execution_count": 17,
   "id": "048e9bb1",
   "metadata": {},
   "outputs": [
    {
     "data": {
      "text/plain": [
       "10"
      ]
     },
     "execution_count": 17,
     "metadata": {},
     "output_type": "execute_result"
    }
   ],
   "source": [
    "exchange2(1.67)"
   ]
  },
  {
   "cell_type": "markdown",
   "id": "396ac4c3",
   "metadata": {},
   "source": [
    "### Problem of greedy algorithm\n",
    "\n",
    "We can face the problem here depending on the nominals we have.\n",
    "Consider an example of $0.22 and nominals [1, 7, 16], where optimal solution is: 0.7 * 3 + 1 * 0.01 -> 4 coins:"
   ]
  },
  {
   "cell_type": "code",
   "execution_count": 20,
   "id": "2c75d5c7",
   "metadata": {},
   "outputs": [
    {
     "data": {
      "text/plain": [
       "7"
      ]
     },
     "execution_count": 20,
     "metadata": {},
     "output_type": "execute_result"
    }
   ],
   "source": [
    "exchange2(0.22, [1,7,16])"
   ]
  },
  {
   "cell_type": "markdown",
   "id": "63e2ccdb",
   "metadata": {},
   "source": [
    "Code gives 22 = 16 + 1 + 1 + 1 + 1 + 1 + 1 -> 7 coins. It is more efficient to use 7 + 7 + 7 instead of 16. This goes from the fact that base (7) is not correlated with higher nominals."
   ]
  },
  {
   "cell_type": "code",
   "execution_count": 21,
   "id": "38860cf4",
   "metadata": {},
   "outputs": [
    {
     "data": {
      "text/plain": [
       "3"
      ]
     },
     "execution_count": 21,
     "metadata": {},
     "output_type": "execute_result"
    }
   ],
   "source": [
    "exchange2(0.22, [1,7,14])"
   ]
  }
 ],
 "metadata": {
  "kernelspec": {
   "display_name": "Python 3 (ipykernel)",
   "language": "python",
   "name": "python3"
  },
  "language_info": {
   "codemirror_mode": {
    "name": "ipython",
    "version": 3
   },
   "file_extension": ".py",
   "mimetype": "text/x-python",
   "name": "python",
   "nbconvert_exporter": "python",
   "pygments_lexer": "ipython3",
   "version": "3.9.10"
  }
 },
 "nbformat": 4,
 "nbformat_minor": 5
}
