{
 "cells": [
  {
   "cell_type": "markdown",
   "id": "fe5da6d4",
   "metadata": {},
   "source": [
    "### Taken from Stepik course \n",
    "\n",
    "Link to the course: https://stepik.org/course/3089/promo#toc (in russian)\n",
    "\n",
    "Solution to one of complex problems, which I considered interesting and beautiful.\n",
    "\n",
    "### The problem\n",
    "\n",
    "$n \\geq 4$ is a constant. $p$ and $q$ are points randomly taken from the segment $[-n, n]$. Find the probability that the equation $x^2 + px + q$ has real roots.\n",
    "\n",
    "### Solution\n",
    "\n",
    "We can notice that the only requirement for the equation to be satisfied is $D \\geq 0$, where $D$ is the discriminant of the equation $x^2 + px + q$. Thus, $D = p^2 - 4q$. For any $q \\leq 0$ we have real roots, which is $P(q \\leq 0) = \\frac{1}{2}$ for any $p$.\n",
    "\n",
    "However, the next case has some problems. $q > 0 \\implies p^2 - 4q \\geq 0 \\implies |p| \\geq 2\\sqrt{q}$. To understand the task better, one can think of another geometrical representation of it - of a square with side lengths $2n$ and center at zero, $(p,q)$ being the point coordinates on a plane."
   ]
  },
  {
   "cell_type": "markdown",
   "id": "be466195",
   "metadata": {},
   "source": [
    "<img src='segment-plane.png'>"
   ]
  },
  {
   "cell_type": "markdown",
   "id": "eb8bcb67",
   "metadata": {},
   "source": [
    "Now, the probability could be thought of not as the segment **length**, but the **area** of that square.\n",
    "\n",
    "$p^2 - 4q \\geq 0$ could be rearranged as $q \\leq \\frac{p^2}{4}$. It is a parabola which is easy to graph on our square plane ($p$ being on x-axis, $q$ being on y-axis): "
   ]
  },
  {
   "cell_type": "markdown",
   "id": "5864074f",
   "metadata": {},
   "source": [
    "<img src='complete-graph.png'>"
   ]
  },
  {
   "cell_type": "markdown",
   "id": "6a8ac047",
   "metadata": {},
   "source": [
    "$q \\leq 0$ satisfies our equation for any $p$, so let's shade it as a part of our probability:"
   ]
  },
  {
   "cell_type": "markdown",
   "id": "600b7a25",
   "metadata": {},
   "source": [
    "<img src='lower-half.png'>"
   ]
  },
  {
   "cell_type": "markdown",
   "id": "6ca121b1",
   "metadata": {},
   "source": [
    "Let's now consider the upper half of the square. $q \\leq \\frac{p^2}{4}$ indicates that the equation is satisfied for the area *outside* the parabola (or, to be certain, *below* the function $\\frac{p^2}{4}$):"
   ]
  },
  {
   "cell_type": "markdown",
   "id": "fd97d9e3",
   "metadata": {},
   "source": [
    "<img src='upper-half.png'>"
   ]
  },
  {
   "cell_type": "markdown",
   "id": "4286db0c",
   "metadata": {},
   "source": [
    "Since we have the whole picture, we need to compute the area. For the lower half it is obvious:\n",
    "\n",
    "$\\displaystyle A_{lower} = 2n(n) = 2n^2$.\n",
    "\n",
    "Upper half is a bit trickier. We need to integrate the function $q = \\frac{p^2}{4}$ to get the area between it and x-axis. But what are the bounds of our parabola? Since the maximum value of $q$ is $n$:\n",
    "\n",
    "$\\displaystyle n = \\frac{p^2}{4} \\implies p = 2 \\sqrt{n}$ is the maximum value of $p$ on the $[-n, n]$ segment.\n",
    "\n",
    "Now we have the integration bounds, we can take a simple integral:\n",
    "\n",
    "$A_{under} = \\displaystyle \\int_{-2\\sqrt n}^{2\\sqrt n} \\frac{p^2}{4} = 2 \\int_{0}^{2\\sqrt n} \\frac{p^2}{4} = 2 \\Biggr(\\frac{p^3}{12} \\,\\Biggr|_{0}^{2\\sqrt n}\\Biggr) = \\frac{4n^{\\frac{3}{2}}}{3}$\n",
    "\n",
    "We are left off only with the bound areas:\n",
    "\n",
    "$A_{bounds} = 2 \\times A_{bound} = 2n(n-2\\sqrt n) = 2n^2 - 4n^{\\frac{3}{2}}$\n",
    "\n",
    "To not mess up the visualization, let's break down the square into parts:"
   ]
  },
  {
   "cell_type": "markdown",
   "id": "7d3c838e",
   "metadata": {},
   "source": [
    "<img src='square-break-down.png'>"
   ]
  },
  {
   "cell_type": "markdown",
   "id": "5a07256b",
   "metadata": {},
   "source": [
    "On the pciture above:\n",
    "* $A_{lower}$ is the *red* area;\n",
    "* $A_{bounds}$ is the *total green* area;\n",
    "* $A_{under}$ is the *orange* area.\n",
    "\n",
    "Thus:\n",
    "\n",
    "$\\displaystyle P(p^2-4q \\geq 0) = \\frac{A_{lower} + A_{under} + A_{bounds}}{A_{square}} = \\frac{2n^2 + \\frac{4n^{\\frac{3}{2}}}{3}+  2n^2 - 4n^{\\frac{3}{2}}}{4n^2} = 1 - \\frac{2}{3 \\sqrt n}$"
   ]
  }
 ],
 "metadata": {
  "kernelspec": {
   "display_name": "Python 3 (ipykernel)",
   "language": "python",
   "name": "python3"
  },
  "language_info": {
   "codemirror_mode": {
    "name": "ipython",
    "version": 3
   },
   "file_extension": ".py",
   "mimetype": "text/x-python",
   "name": "python",
   "nbconvert_exporter": "python",
   "pygments_lexer": "ipython3",
   "version": "3.9.10"
  }
 },
 "nbformat": 4,
 "nbformat_minor": 5
}
