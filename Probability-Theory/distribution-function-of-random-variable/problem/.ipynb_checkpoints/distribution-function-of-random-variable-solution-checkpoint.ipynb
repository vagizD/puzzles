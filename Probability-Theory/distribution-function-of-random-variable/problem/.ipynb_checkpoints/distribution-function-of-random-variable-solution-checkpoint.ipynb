{
 "cells": [
  {
   "cell_type": "markdown",
   "id": "d80e7c61",
   "metadata": {},
   "source": [
    "### Taken from Stepik course\n",
    "\n",
    "Link to the course: https://stepik.org/course/3089/promo#toc (in russian)\n",
    "\n",
    "### The problem\n",
    "\n",
    "Point $\\omega = (\\omega_1, \\omega_2)$ is randomly taken on a square $[0,1]^2$. Random variable $\\beta(\\omega) = \\omega_1 + \\omega_2$. Find the distribution function $F_{\\beta}(x)$."
   ]
  },
  {
   "cell_type": "markdown",
   "id": "c9d06979",
   "metadata": {},
   "source": [
    "### Definitions\n",
    "\n",
    "First of all, we need to clarify some key boundaries before going to the task itself (they were important since the task was checked by automatic algorithm).\n",
    "\n",
    "1) If point divides the ray/stright line, this point belongs to the **right part** of the ray/straight line. In more concrete terms, after separation of straight line, the **right part is non-continuous at left limit and continuous at right limit**, whereas the **left part is continuous at both limits**.\n",
    "\n",
    "Example:\n",
    "\n",
    "Cutting segment $[-n,n]$ in point $0$ results in $[-n,0)$ and $[0,n]$, not $[-n,0]$ and $(0,n]$.\n",
    "\n",
    "2) By its definition, $F_{\\beta}(x) = P(\\beta \\leq x)$."
   ]
  },
  {
   "cell_type": "markdown",
   "id": "5da58672",
   "metadata": {},
   "source": [
    "### Solution\n",
    "\n",
    "Start off with the graphical representation:"
   ]
  },
  {
   "cell_type": "markdown",
   "id": "77c163da",
   "metadata": {},
   "source": [
    "<img src='../tools/empty-grid.png'>"
   ]
  },
  {
   "cell_type": "markdown",
   "id": "88d4656a",
   "metadata": {},
   "source": [
    "Distribution function includes the whole domain $\\mathbb{R}$. Thus, for $x = \\omega_1 + \\omega_2$:\n",
    "\n",
    "* if $x < 0 \\implies P(\\beta < x) = 0$;\n",
    "* if $x \\in [0,2] \\implies P(\\beta < x)$ somehow changes according to $x$ value;\n",
    "* if $x \\geq 2 \\implies P(\\beta < x) = 1$.\n",
    "\n",
    "We need to understand how different values of $x \\in [0,2]$ influence the probability. Whole area of the square is total probability. Every restriction of $\\beta \\leq x$ *cuts off* some area. Obviously, $F_{\\beta}(1) = \\frac{1}{2}$, since we can draw a line $\\omega_1 + \\omega_2 \\leq 1 \\implies$ area below $\\omega_2 = 1 - \\omega_1$:"
   ]
  },
  {
   "cell_type": "markdown",
   "id": "43b5e3af",
   "metadata": {},
   "source": [
    "<img src='../tools/obvious-notice.png'>"
   ]
  },
  {
   "cell_type": "markdown",
   "id": "0cfc3c5d",
   "metadata": {},
   "source": [
    "We can notice that $\\displaystyle \\forall x \\in [0,1] \\implies P(\\beta \\leq x) = A_{total \\ square} - A_{triangle \\ below \\ line}$"
   ]
  },
  {
   "cell_type": "markdown",
   "id": "98eb0b04",
   "metadata": {},
   "source": [
    "<img src='../tools/below-line.png'>"
   ]
  },
  {
   "cell_type": "markdown",
   "id": "3fe50756",
   "metadata": {},
   "source": [
    "Point $(\\frac{x}{2},\\frac{x}{2})$ is the center point of line $\\omega_2 = x - \\omega_2$, we can compute area of equilateral triangle $A = 2 \\times (\\frac{x}{2})^2 = \\frac{x^2}{2}$.\n",
    "\n",
    "Thus, for $x \\in [0,1]: F_{\\beta}(x) = P(\\beta \\leq x| x \\in [0,1]) = \\frac{x^2}{2}$\n",
    "\n",
    "The almost same concept is for $x \\in [1,2]$:"
   ]
  },
  {
   "cell_type": "markdown",
   "id": "6ccdce57",
   "metadata": {},
   "source": [
    "<img src='../tools/above-line.png'>"
   ]
  },
  {
   "cell_type": "markdown",
   "id": "1cd6d0ef",
   "metadata": {},
   "source": [
    "The probability now is represented as $\\displaystyle \\forall x \\in [1,2] \\implies P(\\beta \\leq x) = A_{total \\ square} - A_{triangle \\ above \\ line}$\n",
    "\n",
    "The line $\\omega_1 + \\omega_2 = x$ on picture above has central point also at $(\\frac{x}{2}, \\frac{x}{2}) \\implies \\forall x \\in [1,2]: F_{\\beta}(x) = P(\\beta \\leq x| x \\in [1,2]) = 1 - 2(1-\\frac{x}{2})^2$\n",
    "\n",
    "Thus, we can define the distribution function of $\\beta$ (sticking to the **definitions** section from the beginning):\n",
    "\n",
    "$$ F_{\\beta}(x) =\n",
    "  \\begin{cases}\n",
    "    0                      & \\quad \\text{if } x < 0, \\\\\n",
    "    \\frac{x^2}{2}          & \\quad \\text{if } 0 \\leq x < 1, \\\\\n",
    "    1 - 2(1-\\frac{x}{2})^2 & \\quad \\text{if } 1 \\leq x < 2, \\\\\n",
    "    1                      & \\quad \\text{if } x \\geq 2.\n",
    "  \\end{cases}\n",
    "$$\n"
   ]
  }
 ],
 "metadata": {
  "kernelspec": {
   "display_name": "Python 3 (ipykernel)",
   "language": "python",
   "name": "python3"
  },
  "language_info": {
   "codemirror_mode": {
    "name": "ipython",
    "version": 3
   },
   "file_extension": ".py",
   "mimetype": "text/x-python",
   "name": "python",
   "nbconvert_exporter": "python",
   "pygments_lexer": "ipython3",
   "version": "3.9.10"
  }
 },
 "nbformat": 4,
 "nbformat_minor": 5
}
